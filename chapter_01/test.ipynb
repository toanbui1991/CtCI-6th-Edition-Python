{
 "cells": [
  {
   "cell_type": "code",
   "execution_count": 2,
   "metadata": {},
   "outputs": [
    {
     "name": "stdout",
     "output_type": "stream",
     "text": [
      "asd\n",
      "sdf\n",
      "dfa\n",
      "fag\n",
      "agw\n",
      "gwe\n",
      "weg\n",
      "egy\n",
      "gyh\n",
      "yhr\n",
      "hrt\n",
      "rt\n",
      "t\n"
     ]
    }
   ],
   "source": [
    "string = \"asdfagwegyhrt\"\n",
    "n = 3\n",
    "for i in range(len(string)):\n",
    "    print(string[i:i+n]) #do not have out of range error in this case"
   ]
  },
  {
   "cell_type": "code",
   "execution_count": 18,
   "metadata": {},
   "outputs": [
    {
     "data": {
      "text/plain": [
       "6"
      ]
     },
     "execution_count": 18,
     "metadata": {},
     "output_type": "execute_result"
    }
   ],
   "source": [
    "from collections import Counter\n",
    "from typing import List\n",
    "from unittest import result\n",
    "def compress(chars: List[str]) -> int:\n",
    "        result_list = []\n",
    "        counter = Counter(chars)\n",
    "        for k in counter.keys():\n",
    "            result_list.extend([k, str(counter[k])])\n",
    "        print(\"result_list: \", result_list)\n",
    "        return len(result_list)\n",
    "\n",
    "def compress_v2(chars: List[str]) -> int:\n",
    "    r_index = 0\n",
    " \n",
    "    # outer loop\n",
    "    while r_index < len(chars):\n",
    "        \n",
    "        count = 1\n",
    "        \n",
    "        # inner loop - how far can we go\n",
    "        while r_index + 1 < len(chars) and chars[r_index] == chars[r_index + 1]:\n",
    "            count += 1\n",
    "             # we know the next char is same so lets delete it and look at the next after it without having to update r_index\n",
    "            del chars[r_index + 1]\n",
    "            \n",
    "        # now handle if count is numerical digit like 12 a characters,  \"a\", \"1\", \"2\"\n",
    "        if count > 1:\n",
    "            for char in str(count):\n",
    "                chars.insert(r_index + 1, char)\n",
    "                r_index += 1\n",
    "        \n",
    "        r_index += 1\n",
    "    \n",
    "    return len(chars)   \n",
    "\n",
    "input_list = [\"a\",\"a\",\"b\",\"b\",\"c\",\"c\",\"c\"]\n",
    "# compress(input_list)\n",
    "compress_v2(input_list)\n",
    "        "
   ]
  },
  {
   "cell_type": "code",
   "execution_count": null,
   "metadata": {},
   "outputs": [],
   "source": [
    "        '''\n",
    "        --3--\n",
    "        [Accepted]\n",
    "        [Runtime: 72 ms, faster than 57.45%]\n",
    "        \n",
    "        Enhanced freq dict - (Rolling hashmap)\n",
    "        simiar problem: 438. Find All Anagrams in a String\n",
    "        \n",
    "            - instead of generating a fresh freq hashmap for every new substring\n",
    "            - build the freq dict for the initial window and then slide the window_dict\n",
    "              (add/remove chars) by adjusting their frequinces. \n",
    "              \n",
    "              removing one preceding character and adding a new succeeding character to the new window\n",
    "        '''\n",
    "        \n",
    "        k = len(s1)\n",
    "        from collections import Counter\n",
    "        d1 = Counter(s1)\n",
    "        \n",
    "        # initial window\n",
    "        window = s2[:k]\n",
    "        d2 = Counter(window)\n",
    "        \n",
    "        # check the intial window \n",
    "        if d1 == d2:\n",
    "            return True\n",
    "  \n",
    "        for i in range(len(s2)-k):\n",
    "        \n",
    "            # SLIDE THE WINDOW\n",
    "            # 1 - remove s2[i]\n",
    "            if d2[s2[i]] == 1:\n",
    "                del d2[s2[i]]\n",
    "            elif d2[s2[i]] > 1:\n",
    "                d2[s2[i]] -= 1\n",
    "            \n",
    "            # 2- add s2[i+k]\n",
    "            if s2[i+k] in d2:\n",
    "                d2[s2[i+k]] += 1\n",
    "            else:\n",
    "                d2[s2[i+k]] = 1\n",
    "                \n",
    "            # check after sliding\n",
    "            if d1 == d2:\n",
    "                return True\n",
    "                \n",
    "        return False\n",
    "    \n",
    "    # now go review ---> 438. Find All Anagrams in a String"
   ]
  }
 ],
 "metadata": {
  "kernelspec": {
   "display_name": "Python 3.8.10 ('venv': venv)",
   "language": "python",
   "name": "python3"
  },
  "language_info": {
   "codemirror_mode": {
    "name": "ipython",
    "version": 3
   },
   "file_extension": ".py",
   "mimetype": "text/x-python",
   "name": "python",
   "nbconvert_exporter": "python",
   "pygments_lexer": "ipython3",
   "version": "3.8.10"
  },
  "orig_nbformat": 4,
  "vscode": {
   "interpreter": {
    "hash": "d0f8ef39b0f4e1cf4ea99fea9f01604478b1a953216fbe67b6537ca23b5c7ec0"
   }
  }
 },
 "nbformat": 4,
 "nbformat_minor": 2
}
