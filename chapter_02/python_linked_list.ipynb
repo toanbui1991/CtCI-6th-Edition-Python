{
 "cells": [
  {
   "cell_type": "code",
   "execution_count": 1,
   "metadata": {},
   "outputs": [
    {
     "name": "stdout",
     "output_type": "stream",
     "text": [
      "deque:  deque([1, 2, 3])\n"
     ]
    },
    {
     "ename": "AttributeError",
     "evalue": "type object 'collections.deque' has no attribute 'head'",
     "output_type": "error",
     "traceback": [
      "\u001b[0;31m---------------------------------------------------------------------------\u001b[0m",
      "\u001b[0;31mAttributeError\u001b[0m                            Traceback (most recent call last)",
      "Cell \u001b[0;32mIn [1], line 4\u001b[0m\n\u001b[1;32m      2\u001b[0m de \u001b[38;5;241m=\u001b[39m deque([\u001b[38;5;241m1\u001b[39m, \u001b[38;5;241m2\u001b[39m, \u001b[38;5;241m3\u001b[39m])\n\u001b[1;32m      3\u001b[0m \u001b[38;5;28mprint\u001b[39m(\u001b[38;5;124m\"\u001b[39m\u001b[38;5;124mdeque: \u001b[39m\u001b[38;5;124m\"\u001b[39m, de)\n\u001b[0;32m----> 4\u001b[0m \u001b[38;5;28mprint\u001b[39m(deque\u001b[38;5;241m.\u001b[39mhead)\n",
      "\u001b[0;31mAttributeError\u001b[0m: type object 'collections.deque' has no attribute 'head'"
     ]
    }
   ],
   "source": [
    "from collections import deque\n",
    "de = deque([1, 2, 3])\n",
    "print(\"deque: \", de)\n",
    "print(d)"
   ]
  }
 ],
 "metadata": {
  "kernelspec": {
   "display_name": "Python 3.8.10 ('venv': venv)",
   "language": "python",
   "name": "python3"
  },
  "language_info": {
   "codemirror_mode": {
    "name": "ipython",
    "version": 3
   },
   "file_extension": ".py",
   "mimetype": "text/x-python",
   "name": "python",
   "nbconvert_exporter": "python",
   "pygments_lexer": "ipython3",
   "version": "3.8.10"
  },
  "orig_nbformat": 4,
  "vscode": {
   "interpreter": {
    "hash": "d0f8ef39b0f4e1cf4ea99fea9f01604478b1a953216fbe67b6537ca23b5c7ec0"
   }
  }
 },
 "nbformat": 4,
 "nbformat_minor": 2
}
