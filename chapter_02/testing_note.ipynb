{
 "cells": [
  {
   "cell_type": "markdown",
   "metadata": {},
   "source": [
    "**Modern Test-Driven Development in Python**:\n",
    "- reference link: https://testdriven.io/blog/modern-tdd/\n",
    "- in this post, we will discuss about how to implement test driven pattern in python with pytest packages. we also use pydantic for type check."
   ]
  }
 ],
 "metadata": {
  "kernelspec": {
   "display_name": "Python 3.8.10 ('venv': venv)",
   "language": "python",
   "name": "python3"
  },
  "language_info": {
   "name": "python",
   "version": "3.8.10"
  },
  "orig_nbformat": 4,
  "vscode": {
   "interpreter": {
    "hash": "d0f8ef39b0f4e1cf4ea99fea9f01604478b1a953216fbe67b6537ca23b5c7ec0"
   }
  }
 },
 "nbformat": 4,
 "nbformat_minor": 2
}
