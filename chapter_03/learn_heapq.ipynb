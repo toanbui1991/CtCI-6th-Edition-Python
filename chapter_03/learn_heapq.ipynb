{
 "cells": [
  {
   "cell_type": "code",
   "execution_count": 2,
   "metadata": {},
   "outputs": [
    {
     "name": "stdout",
     "output_type": "stream",
     "text": [
      "[13, 41, 52, 77, 94]\n"
     ]
    }
   ],
   "source": [
    "import heapq\n",
    "\"\"\"\n",
    "learn heapq package which implementation of min heap in python. min heap is tree structure which keep smallest value at root node\n",
    "\"\"\"\n",
    "a = [52, 94, 13, 77, 41]\n",
    "#heapify will change list to heap in place\n",
    "heapq.heapify(a)\n",
    "print(a)"
   ]
  },
  {
   "cell_type": "code",
   "execution_count": 3,
   "metadata": {},
   "outputs": [
    {
     "name": "stdout",
     "output_type": "stream",
     "text": [
      "[10, 41, 13, 77, 94, 52]\n"
     ]
    }
   ],
   "source": [
    "#heappush(heap, value), to push value into heap structure\n",
    "heapq.heappush(a, 10)\n",
    "print(a)\n"
   ]
  },
  {
   "cell_type": "code",
   "execution_count": 4,
   "metadata": {},
   "outputs": [
    {
     "name": "stdout",
     "output_type": "stream",
     "text": [
      "10\n",
      "[13, 41, 52, 77, 94]\n"
     ]
    }
   ],
   "source": [
    "#heappop(heap), remove the root element of min heap\n",
    "print(heapq.heappop(a)) #return root value\n",
    "print(a)"
   ]
  },
  {
   "cell_type": "code",
   "execution_count": 5,
   "metadata": {},
   "outputs": [
    {
     "name": "stdout",
     "output_type": "stream",
     "text": [
      "13\n",
      "[28, 41, 52, 77, 94]\n"
     ]
    }
   ],
   "source": [
    "#heappushpop(heap, value), push the value to heap and then pop root and return the poped value\n",
    "print(heapq.heappushpop(a, 28)) #push 28 into heap and then pop root 13 return 13\n",
    "print(a)"
   ]
  },
  {
   "cell_type": "code",
   "execution_count": null,
   "metadata": {},
   "outputs": [],
   "source": [
    "#heapreplace(heap, value) which means pop root and push value, return the pop value\n",
    "#heappushpop (pop and push) vs heapreplace (pop and then push) \n",
    "print(heapq.heapreplace(a,3))\n",
    "print(a)"
   ]
  }
 ],
 "metadata": {
  "kernelspec": {
   "display_name": "Python 3.10.4 64-bit",
   "language": "python",
   "name": "python3"
  },
  "language_info": {
   "codemirror_mode": {
    "name": "ipython",
    "version": 3
   },
   "file_extension": ".py",
   "mimetype": "text/x-python",
   "name": "python",
   "nbconvert_exporter": "python",
   "pygments_lexer": "ipython3",
   "version": "3.10.6"
  },
  "orig_nbformat": 4,
  "vscode": {
   "interpreter": {
    "hash": "31f2aee4e71d21fbe5cf8b01ff0e069b9275f58929596ceb00d14d90e3e16cd6"
   }
  }
 },
 "nbformat": 4,
 "nbformat_minor": 2
}
